{
 "cells": [
  {
   "cell_type": "markdown",
   "id": "b8b48c36-7a55-43dd-a981-a73182784c21",
   "metadata": {
    "tags": []
   },
   "source": [
    "<h1 class=section> Warmup - pytest basics </h1>"
   ]
  },
  {
   "cell_type": "markdown",
   "id": "8fabe0af-b086-45e2-9951-65ff7c2c986f",
   "metadata": {},
   "source": [
    "<div class=exercise> Create a src directory. Tests directory is already created for you to use and has a <code>tests.TESTS_DIR</code> path constant added to help with file loading. In file <code>src/square_root.py</code> write a function <code>square_root(x, prec)</code> which given a number <code>x</code> and precision threshold <code>prec</code> returns square root of <code>x</code> with precision at least <code>prec</code>. Use no built-in numerical functions (only basic operations +-* are allowed!). Now create <code>tests/test_square_root.py</code>. In this file write <code>test_sq_root</code> function and test your implementation on a few examples of <code>x</code> and <code>prec</code>. Use ready-to-use asserts from <code>unittest</code> library. Run your tests by executing <code>pytest</code> command. You can find flag -v useful (it increases verbosity).</div>"
   ]
  },
  {
   "cell_type": "markdown",
   "id": "d8dbd980-88b5-42b0-93e0-ea9b35417005",
   "metadata": {},
   "source": [
    "<h1 class=subsubsection> Subsets</h1>"
   ]
  },
  {
   "cell_type": "markdown",
   "id": "a38ca1b6-4c36-466f-b20c-d27642ce7ad1",
   "metadata": {},
   "source": [
    "<div class=exercise> Now create <code>src/slow.py</code> and implement in it a function called <code>slow_function(seconds)</code> that simulates being slow - sleeps for a few seconds. Add a test in <code>tests/test_slow.py</code> which tests the function and asserts <code>True</code>. Run pytest command. Afterwards use <code>-k Root</code> flag to run only those tests which contain <code>Root</code> substring. Using  <code>@pytest.mark.(your mark goes here)</code> mark your slow tests by the <code>slow</code> mark. Try adding <code>-m slow</code> flag to pytest to test only the slow function (or <code>-m \"not slow\"</code> to omit slow tests).\n",
    "\n",
    "<b>Note:</b> You can combine multiple marks using keywords such as <code>[not, and, or]</code>.\n",
    "(See the description of -m flag using pytest --help) e.g. <code>pytest -m \"not slow and dummy\" -v</code></div>"
   ]
  },
  {
   "cell_type": "markdown",
   "id": "d80b557e-07c5-416b-a319-47ce5c248d67",
   "metadata": {},
   "source": [
    "<h1 class=subsubsection> Parametrization</h1>"
   ]
  },
  {
   "cell_type": "markdown",
   "id": "50fd3733-6539-4877-9587-65d13ea3b2d4",
   "metadata": {},
   "source": [
    "<div class=exercise> Now write a parametrized test <code>test_parametrization_root</code> in <code>test_square_root.py</code> with at least two arguments in the parametrization (use <code>@pytest.mark.parametrize</code>). \n",
    "Run just this single test using appropriate flags to pytest!</div>"
   ]
  },
  {
   "cell_type": "markdown",
   "id": "5a3ea89d-84a5-4e3d-8cf1-3eafb0d84ebc",
   "metadata": {},
   "source": [
    "<h1 class=subsubsection> Skipping</h1>"
   ]
  },
  {
   "cell_type": "markdown",
   "id": "029f0b90-5ed2-4918-b812-393aecd5c299",
   "metadata": {},
   "source": [
    "<div class=exercise>Write <code>tests/test_omit_me.py</code> test which always fails. Force pytest to omit this test using <code>@pytest.mark.skip</code>. What does <code>@pytest.mark.xfail</code> do?</div>"
   ]
  },
  {
   "cell_type": "markdown",
   "id": "f425983a-4721-442f-b361-80fd6c23d2f5",
   "metadata": {},
   "source": [
    "<h1 class=subsubsection> Parallelization</h1>"
   ]
  },
  {
   "cell_type": "markdown",
   "id": "89320174-5119-4ccd-b32a-137664d24405",
   "metadata": {
    "tags": []
   },
   "source": [
    "<div class=exercise> In <code>tests/test_slow.py</code>, implement two more tests using the <code>slow_function</code>. Install <code>pytest-xdist</code> and run all your tests using 3 CPUs (flag -n to pytest). See how the parallelization speeds up the test execution process.</div>"
   ]
  },
  {
   "cell_type": "markdown",
   "id": "0f211721-02ed-42fa-9338-353b04be528e",
   "metadata": {},
   "source": [
    "<h1 class=section> Fixtures </h1>"
   ]
  },
  {
   "cell_type": "markdown",
   "id": "5f44124f-4d28-4f59-b219-45621de230ff",
   "metadata": {},
   "source": [
    "<h1 class=subsubsection>Decorations and scopes</h1>"
   ]
  },
  {
   "cell_type": "markdown",
   "id": "af6f8760-8db9-425a-8b0d-43e490a3db1c",
   "metadata": {
    "tags": []
   },
   "source": [
    "<div class=exercise> \n",
    "    Create <code>data/numbers.txt</code> and <code>tests/test_fixtures.py</code> files. Write a function <code>load_numbers()</code> which takes no arguments, reads <code>data/numbers.txt</code>, prints message <code>numbers read</code> and returns its content. Decorate it with <code>@pytest.fixture()</code>. Now, write two tests <code>test_1</code> and <code>test_2</code> which take as argument <code>load_numbers</code>, print 1 or 2 respectively and at the end assert that load_numbers is empty. Run these tests. How many times message <code>numbers read</code> was printed? Change the scope of the fixture so that the file is read only once.\n",
    "\n",
    "</div>"
   ]
  },
  {
   "cell_type": "markdown",
   "id": "639d9cfc-4f29-44d2-a3dd-8f3a635fa4ed",
   "metadata": {},
   "source": [
    "<h1 class=subsubsection>Class decorations and yield</h1>"
   ]
  },
  {
   "cell_type": "markdown",
   "id": "efa52d2a-b82f-4d9c-b03e-b10d990bacaa",
   "metadata": {},
   "source": [
    "<div class=exercise> Create empty <code>data/my_db.json</code> file. In <code>test_fixtures.py</code> \n",
    "write fixture <code>prep_db()</code> of class scope, which reads <code>my_db.json</code> (use <code>tinydb</code> library), prints <code>database read</code> and the returns <code>TinyDB</code> object. Create test class <code>TestDB</code> and decorate it with <code>@pytest.mark.usefixtures(\"prep_db\")</code>. Simarly to the previous exercise add to this class two dummy methods, <code>test_1</code> and <code>test_2</code> which print their id and check if the loaded database is empty. Run these tests. How many times my_db.json was read? Replace return  statement in <code>prep_db()</code> by two new lines: <code>yield TinyDB()</code> and <code>print (\"Closing connection to our database\")</code>. Run tests and take a look at the order of printed messages.\n",
    "</div>"
   ]
  },
  {
   "cell_type": "markdown",
   "id": "4cb185af-7224-44b1-96a2-debee631b861",
   "metadata": {
    "tags": []
   },
   "source": [
    "<h1 class=subsubsection> Conftest.py</h1>"
   ]
  },
  {
   "cell_type": "markdown",
   "id": "00251eb6-9853-4976-8738-00837c0ebb36",
   "metadata": {},
   "source": [
    "<div class=exercise> Create <code>tests/conftest.py</code> file. Open it and write two fixtures with session scope and <code>autouse</code> set to true. Call the first one <code>one()</code> and make it return 1. Call the second one <code>three_times_one()</code> and let it return <code>3 * one</code> (fixtures can use fixtures). Add to <code>test_fixtures.py</code> a new test <code>test_one_times_three_is_three</code> which checks if <code>one * 3 == three_times_one</code>. Note that due to autouse there is no need to pass fixtures as arguments!</div>"
   ]
  },
  {
   "cell_type": "markdown",
   "id": "43c7d616-2147-41e1-ab72-45e362a0acb4",
   "metadata": {},
   "source": [
    "<h1 class=subsubsection> Order of execution</h1>"
   ]
  },
  {
   "cell_type": "markdown",
   "id": "7ac06bca-630d-4869-9bb4-170495715a12",
   "metadata": {},
   "source": [
    "<div class=exercise> In which order the following fixtures will execute? \n",
    "    <ol class=command_list>\n",
    "        <li>@pytest.fixture(scope=\"session\", autouse=True)</li>\n",
    "        <li>@pytest.fixture(scope=\"session\", autouse=False)</li>\n",
    "        <li> @pytest.fixture(scope=\"class\")</li>\n",
    "        <li>@pytest.fixture(scope=\"function\")</li>\n",
    "    </ol> \n",
    "    Write down a rule of thumb explaining how to determine order of execution of fixtures (how does it depend on scope and autouse). </div>"
   ]
  },
  {
   "cell_type": "markdown",
   "id": "61fb258d-3a13-453a-953e-d797953b056e",
   "metadata": {},
   "source": [
    "<h1 class=section> Mocking </h1>"
   ]
  },
  {
   "cell_type": "markdown",
   "id": "52f3d8a2-d492-4c53-9632-b18ec5cbb95b",
   "metadata": {},
   "source": [
    "<h1 class=subsubsection> Mock object and its atributes/methods</h1>"
   ]
  },
  {
   "cell_type": "markdown",
   "id": "43dbbc52-e95e-43ee-aa8e-28bbe26f02a6",
   "metadata": {
    "tags": []
   },
   "source": [
    "<div class=exercise> Create a <code>Mock</code> object <code>my_mock</code> from <code>unittest.mock</code>. Mock can simulate any object that is being replaced. Check now what is the type of <code>my_mock.my_attribute</code> and <code>my_mock.my_method()</code>. \n",
    "</div>"
   ]
  },
  {
   "cell_type": "markdown",
   "id": "a6217987-5074-4222-bc45-7b6afe693929",
   "metadata": {},
   "source": [
    "<h1 class=subsubsection> Asserts and built-in mock methods</h1>"
   ]
  },
  {
   "cell_type": "markdown",
   "id": "df106c70-28e7-4c3b-ae3c-3213b1d0527e",
   "metadata": {},
   "source": [
    "<div class=exercise> Create a mock of a json object called <code>mocked_json</code>. Now,\n",
    "<ul class=command_list>\n",
    "    <li> Call <code>mocked_json.dumps(here_goes_some_simple_dict)</code>.</li>\n",
    "    <li>  Print how many times <code>mocked_json.dumps</code> method was called. </li>\n",
    "    <li>  Assert if it was called exactly once with argument <code>here_goes_some_simple_dict</code>. </li>\n",
    "    <li>  Play with variations on assert_called_with (see the <a href=\" https://docs.python.org/3/library/unittest.mock.html\">documentation</a>).</li>\n",
    "    <li> List a list of calls of mocked_json methods. </li>\n",
    "</ul>\n",
    " </div>"
   ]
  },
  {
   "cell_type": "markdown",
   "id": "cc450187-addd-43a1-9cf4-2840b1479b41",
   "metadata": {},
   "source": [
    "<h1 class=subsubsection> Return value/ side effect</h1>"
   ]
  },
  {
   "cell_type": "markdown",
   "id": "1931faa6-360e-4371-90cf-b2e9b86056df",
   "metadata": {},
   "source": [
    "<div class=exercise> \n",
    "    Create a <code>Mock</code> object <code>my_mock</code>. Now,\n",
    " <ul class=command_list>\n",
    "    <li>Use <code>configure_mock</code> so that <code>my_mock</code> method <code>three()</code> returns 3. </li>\n",
    "    <li>Make <code>my_mock</code> method <code>my_method_with_side_effect</code> to have side effect <code>KeyError</code>. </li>\n",
    "    <li> What happens if we set simultaneously both <code>return value</code> and <code>side effect</code> for some method? Make an experiment.</li>\n",
    "    <li> At the end add to <code>my_mock</code> a method <code>sequence_of_numbers</code> which called three times in the row returns 1,2,3 consecutively. </li>\n",
    "   \n",
    "    \n",
    "</ul>   \n",
    "</div>"
   ]
  },
  {
   "cell_type": "markdown",
   "id": "3d11fce1-1862-4649-9c33-5b9d52baae37",
   "metadata": {},
   "source": [
    "<h1 class=subsubsection> Patch</h1>"
   ]
  },
  {
   "cell_type": "markdown",
   "id": "09ba8477-d7a3-4f78-a526-99f90c149f38",
   "metadata": {},
   "source": [
    "<div class=exercise>Create <code>src/my_class.py</code> and add to it class <code>my_class</code> with two methods: <code>method_1</code> and  <code>method_2</code> which return 1, 2 respectively. Now,\n",
    "\n",
    "<ul class=command_list>\n",
    "    <li>Create <code>tests/test_my_class.py</code> and write inside a test called <code>test_my_class</code>. Decorate it with <code>@patch</code> so that mocked <code>my_class</code> could be used inside this test. Assert that sum of return values of (mocked)  <code>method_i</code> for i=1,2 returns 3. </li>\n",
    "    <li>In function <code>test_my_class_with_context_manager</code>, try to obtain the effect of patch decoration using context manager instead. </li>\n",
    "</ul>   \n",
    "</div>"
   ]
  },
  {
   "cell_type": "markdown",
   "id": "c4a4edcd-863a-45c8-b257-3f462ea4346f",
   "metadata": {},
   "source": [
    "<div class=exercise> <strong>Monkeypatch - pure pytest solution</strong>. \n",
    "Create a function <code>get_current_path</code> which returns current working directory. Test it using monkeypatching.\n",
    " \n",
    "</div>"
   ]
  },
  {
   "cell_type": "markdown",
   "id": "9f3a6392-d15b-4e08-b4e9-1768354aedeb",
   "metadata": {},
   "source": [
    "<h1 class=section> Testing of HTTP requests </h1>"
   ]
  },
  {
   "cell_type": "markdown",
   "id": "7c753065-38e9-48cd-a880-621926e8f0ec",
   "metadata": {
    "tags": []
   },
   "source": [
    "<div class=info> \n",
    "    In the \"testing\" exercises below you will be asked to try out a few methods of testing HTTP requests. For each solution of an exercise please write its pros and cons down. In each \"testing\" exercise the aim is the same, given some tool/tools, test your weather api.\n",
    "</div>"
   ]
  },
  {
   "cell_type": "markdown",
   "id": "45ecb6d3-a691-497d-9737-d7defab1aaf2",
   "metadata": {},
   "source": [
    "<div class=warn> \n",
    "    Some of the below exercises might seem vague or imprecise but this is done on purpose. It is up to you to decide how exactly you will realize a task knowning the aim. Take some time and consider possible pitfalls and problems which were presented in the lecture. Improve your solutions up to the point when you feel you cannot do better at the moment. Try to use only tools specific to a given a exercise. If you know a better/different way to test or alternative libraries which seem to you more suitable here - go ahead and write them down after finishing the following exercises!\n",
    "</div>"
   ]
  },
  {
   "cell_type": "markdown",
   "id": "86a4132a-6029-4895-b213-bed7fd60baa4",
   "metadata": {},
   "source": [
    "<h1 class=subsubsection> HTTP request </h1>"
   ]
  },
  {
   "cell_type": "markdown",
   "id": "d77d1adc-dd53-4712-b585-8ba6343a0842",
   "metadata": {},
   "source": [
    "<div class=info>\n",
    "    In the exercise below you might want to use <a href=\"https://openweathermap.org/\">this weather provider</a> and <a href=\"https://github.com/nedbat/coveragepy\">this python tool</a> (or <a href=\"https://pypi.org/project/pytest-cov/\">its extension</a>) to measure the code coverage.\n",
    "</div>"
   ]
  },
  {
   "cell_type": "markdown",
   "id": "2416c19d-6489-4959-8b24-67f6a7799a69",
   "metadata": {},
   "source": [
    "<div class=exercise> \n",
    "     Create <code>src/weather.py</code>.\n",
    "    <ul class=command_list>\n",
    "    <li>Using <code>requests</code> library  implement a function <code>weather_for_city(url, city)</code> which takes <code>city</code> and returns weather for the current day using data from <code>url</code>.</li>\n",
    "    <li>Implement tests for <code>weather_for_city(url, city)</code> in <code>tests/test_weather.py</code> file. Make sure that code coverage is 100% (to do so use a command line command).</li>\n",
    "</ul>    \n",
    "</div> \n"
   ]
  },
  {
   "cell_type": "markdown",
   "id": "4a3100fd-505b-45bb-805e-6626973c6e40",
   "metadata": {},
   "source": [
    "<h1 class=subsubsection> Mocking</h1>"
   ]
  },
  {
   "cell_type": "markdown",
   "id": "1ab076b3-7709-426f-bb2b-71aff69b3626",
   "metadata": {},
   "source": [
    "<div class=exercise> \n",
    "    Create a fixture <code>fake_weather</code> which generates an example of json weather. Patch request.get appropriately to test function <code>weather_for_city(url, city)</code>. Make sure that response error is handled and tested appropriately! What happens if we decide to change library request to another one? What part of code would change?\n",
    "</div> \n"
   ]
  },
  {
   "cell_type": "markdown",
   "id": "83ca32c8-90a0-46a1-a07d-c4a0da9e66ce",
   "metadata": {},
   "source": [
    "<h1 class=subsubsection> Responses library</h1>"
   ]
  },
  {
   "cell_type": "markdown",
   "id": "dcd9cbf3-2fcd-4aa3-8b99-6d12b6f84b84",
   "metadata": {},
   "source": [
    "<div class=exercise> Read the <a href=\"https://pypi.org/project/responses/\">documentation</a> of response library. How does this library deal with problem of mocking http requests? Write appriopriate weather tests using this library.\n",
    "</div>"
   ]
  },
  {
   "cell_type": "markdown",
   "id": "33ccace0-cbd5-4569-9d91-980f08f50eac",
   "metadata": {},
   "source": [
    "<h1 class=subsection> Bonus </h1>"
   ]
  },
  {
   "cell_type": "markdown",
   "id": "feaf1339-e387-4933-bfb9-13b2a1bc66c0",
   "metadata": {},
   "source": [
    "<div class=exercise> (Bonus) Read  <a href=\"https://pypi.org/project/httmock/\">httmock</a>, <a href=\"https://pypi.org/project/httpretty/\">httpretty</a> documentations. Try to use them to test weather api. \n",
    "</div>\n"
   ]
  },
  {
   "cell_type": "markdown",
   "id": "a9fc1dbc-e9ee-4259-9469-0adf9053764c",
   "metadata": {},
   "source": [
    "<div class=exercise> (Bonus) How would you protect from your weather provider (suggested openweathermap) changing? </div>"
   ]
  },
  {
   "cell_type": "markdown",
   "id": "15229ce1-6130-4143-99c2-902111cdfe1d",
   "metadata": {},
   "source": [
    "<h1 class=subsubsection> (Bonus) Adapters - design pattern</h1>"
   ]
  },
  {
   "cell_type": "markdown",
   "id": "763396c6-9806-40ad-b186-c8585554e758",
   "metadata": {},
   "source": [
    "<div class=exercise> Read for example <a href=\"https://www.tutorialspoint.com/design_pattern/adapter_pattern.htm\">this</a> introduction to adapters. Explain what is the idea behind adapters? Can they be useful in testing? What about testing our API - can adapters be useful here? If so explain why and how by giving an example.\n",
    "</div>\n",
    "    "
   ]
  },
  {
   "cell_type": "markdown",
   "id": "ad9c338f-bcfb-4917-b303-e600fabe73d6",
   "metadata": {},
   "source": [
    "<h1 class=subsubsection> (Bonus) Database testing</h1>"
   ]
  },
  {
   "cell_type": "markdown",
   "id": "1e4d5541-5b88-4ec6-841b-5023706d7a6e",
   "metadata": {},
   "source": [
    "<div class=exercise> (Bonus) Suppose now that a database holds weather information. Implement appriopriate analog of <code>weather_for_city</code> and test it appropriately! </div>"
   ]
  },
  {
   "cell_type": "markdown",
   "source": [
    "<h1 class=subsubsection> (Bonus) Running tests on multiple environment using Tox</h1>"
   ],
   "metadata": {
    "collapsed": false
   }
  },
  {
   "cell_type": "markdown",
   "source": [
    "<div class=exercise> Familliarize yourself with  <a href=\"https://tox.wiki/en/latest/\">Tox</a> - a tool for automating and standardizing tests.\n",
    "\n",
    "Use the provided example tox.ini configuration file to run all the tests with pytest. Consult the README file on how to install and launch Tox.\n",
    "</div>\n"
   ],
   "metadata": {
    "collapsed": false
   }
  },
  {
   "cell_type": "markdown",
   "id": "c15dd5fa-37ce-4aaf-8748-917cf24558d1",
   "metadata": {},
   "source": [
    "<h1 class=subsubsection> Just for proper styling of this document</h1>"
   ]
  },
  {
   "cell_type": "code",
   "execution_count": 1,
   "id": "930ef9f9-f1ed-4f6c-8807-56b60441fdcd",
   "metadata": {},
   "outputs": [
    {
     "data": {
      "text/plain": "<IPython.core.display.HTML object>",
      "text/html": "<style>\n\nh1.section {\n    font-size: 65px;\n    text-align: center;\n}\nh1.subsection {\n    font-size: 45px;\n    text-align: center;\n}\nh1.subsubsection {\n    font-size: 25px;\n    text-align: center;\n}\n\nol.command_list {\n    font-size: 25px;\n}\n\nul.command_list {\n    font-size: 25px;\n}\n\ntable.commands {\n    font-size: 25px;\n}\n\ndiv.exercise {\n    display: block;\n    margin: 12px 0;\n    border:1px solid blue;\n    font-style: italic;\n    font-size: 25px;\n    padding: 1px 1px 1px 10px;\n}\n\ndiv.exercise:before {\n    content: \" Exercise. \";\n    font-weight: bold;\n    font-style: normal;\n    font-size: 25px;\n    color: blue;\n}\n\ndiv.info {\n    display: block;\n    margin: 12px 0;\n    border:1px solid green;\n    font-style: italic;\n    font-size: 25px;\n    padding: 1px 1px 1px 10px;\n}\n\ndiv.info:before {\n    content: \" Info. \";\n    font-weight: bold;\n    font-style: normal;\n    font-size: 25px;\n    color: green;\n}\n\ndiv.warn {\n    display: block;\n    margin: 12px 0;\n    border:1px solid yellow;\n    font-style: italic;\n    font-size: 25px;\n    padding: 1px 1px 1px 10px;\n\n}\n\ndiv.warn:before {\n    content: \" Warning. \";\n    font-weight: bold;\n    font-style: normal;\n    font-size: 25px;\n    color: yellow;\n\n\n}\n\ndiv.tip {\n    display: block;\n    margin: 12px 0;\n    border:1px solid green;\n    padding: 1px 1px 1px 10px;\n    font-style: italic;\n    font-size: 25px;\n}\n\ndiv.tip:before {\n    content: \" Tip. \";\n    font-weight: bold;\n    font-style: normal;\n    font-size: 25px;\n    color: green;\n}\n\n\n\n\ndetails.hint summary {\n    font-size: 25px;\n    font-weight: bold;\n    font-style: normal;\n    color: blue;\n}\n\ndetails.hint p {\n font-style: italic;\n    font-size: 15px;\n     font-weight: bold;\n}\n\n\n </style>\n"
     },
     "execution_count": 1,
     "metadata": {},
     "output_type": "execute_result"
    }
   ],
   "source": [
    "from IPython.core.display import HTML\n",
    "\n",
    "\n",
    "def css_styling():\n",
    "    styles = open(\"../../../../style/custom.css\", \"r\").read()\n",
    "    return HTML(styles)\n",
    "\n",
    "\n",
    "css_styling()"
   ]
  }
 ],
 "metadata": {
  "kernelspec": {
   "display_name": "Python 3 (ipykernel)",
   "language": "python",
   "name": "python3"
  },
  "language_info": {
   "codemirror_mode": {
    "name": "ipython",
    "version": 3
   },
   "file_extension": ".py",
   "mimetype": "text/x-python",
   "name": "python",
   "nbconvert_exporter": "python",
   "pygments_lexer": "ipython3",
   "version": "3.10.6"
  }
 },
 "nbformat": 4,
 "nbformat_minor": 5
}
