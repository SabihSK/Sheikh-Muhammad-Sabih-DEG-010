{
 "cells": [
  {
   "cell_type": "code",
   "execution_count": 3,
   "id": "23ef490f-fe79-4cc8-9b5c-68730e0750c9",
   "metadata": {},
   "outputs": [
    {
     "ename": "NameError",
     "evalue": "name 'spark' is not defined",
     "output_type": "error",
     "traceback": [
      "\u001b[0;31m---------------------------------------------------------------------------\u001b[0m",
      "\u001b[0;31mNameError\u001b[0m                                 Traceback (most recent call last)",
      "Cell \u001b[0;32mIn[3], line 21\u001b[0m\n\u001b[1;32m      5\u001b[0m titanic_schema \u001b[38;5;241m=\u001b[39m StructType([\n\u001b[1;32m      6\u001b[0m     StructField(\u001b[38;5;124m\"\u001b[39m\u001b[38;5;124mPassengerId\u001b[39m\u001b[38;5;124m\"\u001b[39m, IntegerType(), \u001b[38;5;28;01mTrue\u001b[39;00m),\n\u001b[1;32m      7\u001b[0m     StructField(\u001b[38;5;124m\"\u001b[39m\u001b[38;5;124mSurvived\u001b[39m\u001b[38;5;124m\"\u001b[39m, IntegerType(), \u001b[38;5;28;01mTrue\u001b[39;00m),\n\u001b[0;32m   (...)\u001b[0m\n\u001b[1;32m     17\u001b[0m     StructField(\u001b[38;5;124m\"\u001b[39m\u001b[38;5;124mEmbarked\u001b[39m\u001b[38;5;124m\"\u001b[39m, StringType(), \u001b[38;5;28;01mTrue\u001b[39;00m)\n\u001b[1;32m     18\u001b[0m ])\n\u001b[1;32m     20\u001b[0m \u001b[38;5;66;03m# Read the Titanic data into a DataFrame\u001b[39;00m\n\u001b[0;32m---> 21\u001b[0m titanic_df \u001b[38;5;241m=\u001b[39m \u001b[43mspark\u001b[49m\u001b[38;5;241m.\u001b[39mread\u001b[38;5;241m.\u001b[39mcsv(\u001b[38;5;124m\"\u001b[39m\u001b[38;5;124m./data/titanic.csv\u001b[39m\u001b[38;5;124m\"\u001b[39m, header\u001b[38;5;241m=\u001b[39m\u001b[38;5;28;01mTrue\u001b[39;00m, schema\u001b[38;5;241m=\u001b[39mtitanic_schema)\n\u001b[1;32m     23\u001b[0m \u001b[38;5;66;03m# Display the schema of the DataFrame\u001b[39;00m\n\u001b[1;32m     24\u001b[0m titanic_df\u001b[38;5;241m.\u001b[39mprintSchema()\n",
      "\u001b[0;31mNameError\u001b[0m: name 'spark' is not defined"
     ]
    }
   ],
   "source": [
    "from pyspark.sql.functions import avg, col, max, min\n",
    "from pyspark.sql.types import DoubleType, IntegerType, StructField, StructType, StringType\n",
    "\n",
    "# Define the schema for the Titanic data\n",
    "titanic_schema = StructType([\n",
    "    StructField(\"PassengerId\", IntegerType(), True),\n",
    "    StructField(\"Survived\", IntegerType(), True),\n",
    "    StructField(\"Pclass\", IntegerType(), True),\n",
    "    StructField(\"Name\", StringType(), True),\n",
    "    StructField(\"Sex\", StringType(), True),\n",
    "    StructField(\"Age\", DoubleType(), True),\n",
    "    StructField(\"SibSp\", IntegerType(), True),\n",
    "    StructField(\"Parch\", IntegerType(), True),\n",
    "    StructField(\"Ticket\", StringType(), True),\n",
    "    StructField(\"Fare\", DoubleType(), True),\n",
    "    StructField(\"Cabin\", StringType(), True),\n",
    "    StructField(\"Embarked\", StringType(), True)\n",
    "])\n",
    "\n",
    "# Read the Titanic data into a DataFrame\n",
    "titanic_df = spark.read.csv(\"./data/titanic.csv\", header=True, schema=titanic_schema)\n",
    "\n",
    "# Display the schema of the DataFrame\n",
    "titanic_df.printSchema()\n",
    "\n",
    "# Calculate summary statistics for numerical columns\n",
    "num_cols = [\"Survived\", \"Pclass\", \"Age\", \"SibSp\", \"Parch\", \"Fare\"]\n",
    "summary_stats = titanic_df.select([\n",
    "    min(col(c)).alias(f\"min_{c}\") for c in num_cols\n",
    "] + [\n",
    "    max(col(c)).alias(f\"max_{c}\") for c in num_cols\n",
    "] + [\n",
    "    avg(col(c)).alias(f\"avg_{c}\") for c in num_cols\n",
    "])\n",
    "\n",
    "# Display the summary statistics\n",
    "summary_stats.show()\n"
   ]
  },
  {
   "cell_type": "code",
   "execution_count": null,
   "id": "4052c59c-30f3-4578-b0aa-dfd9a240f738",
   "metadata": {},
   "outputs": [],
   "source": []
  }
 ],
 "metadata": {
  "kernelspec": {
   "display_name": "Python 3 (ipykernel)",
   "language": "python",
   "name": "python3"
  },
  "language_info": {
   "codemirror_mode": {
    "name": "ipython",
    "version": 3
   },
   "file_extension": ".py",
   "mimetype": "text/x-python",
   "name": "python",
   "nbconvert_exporter": "python",
   "pygments_lexer": "ipython3",
   "version": "3.10.8"
  }
 },
 "nbformat": 4,
 "nbformat_minor": 5
}
