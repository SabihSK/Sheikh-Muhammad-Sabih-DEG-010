{
 "cells": [
  {
   "cell_type": "markdown",
   "id": "9a92b544-28ac-47fd-8189-d88fae22935f",
   "metadata": {},
   "source": [
    "### Name : Muhammad Safi (2303.khi.deg.023)\n",
    "### Assignment Partners: Huzaifa Ali (2303.khi.deg.016)\n",
    "### Shiekh Muhammad Sabih (2303.khi.deg.010)"
   ]
  },
  {
   "cell_type": "code",
   "execution_count": 1,
   "id": "af59038b-9231-4942-beeb-f666867cdce3",
   "metadata": {},
   "outputs": [],
   "source": [
    "from time import sleep\n",
    "\n",
    "import pyspark\n",
    "from IPython.display import clear_output, display\n",
    "from pyspark.sql import SparkSession\n",
    "from pyspark.sql.functions import col, from_json,udf,when,split\n",
    "from pyspark.sql.streaming import StreamingQuery\n",
    "from pyspark.sql.types import DateType, IntegerType, StringType, StructType"
   ]
  },
  {
   "cell_type": "markdown",
   "id": "cf38ab63-78d6-4b6f-8768-de3ace1bda17",
   "metadata": {},
   "source": [
    "## Importing the dataset and naming the columns according to the dataset"
   ]
  },
  {
   "cell_type": "code",
   "execution_count": 2,
   "id": "8d0ec40d-7a41-4b5f-a41a-ec06223e1503",
   "metadata": {},
   "outputs": [
    {
     "name": "stdout",
     "output_type": "stream",
     "text": [
      "root\n",
      " |-- PassengerId: integer (nullable = true)\n",
      " |-- Survived: integer (nullable = true)\n",
      " |-- Pclass: integer (nullable = true)\n",
      " |-- Name: string (nullable = true)\n",
      " |-- Sex: string (nullable = true)\n",
      " |-- Age: integer (nullable = true)\n",
      " |-- SibSp: integer (nullable = true)\n",
      " |-- Parch: integer (nullable = true)\n",
      " |-- Ticket: string (nullable = true)\n",
      " |-- Fare: double (nullable = true)\n",
      " |-- Cabin: string (nullable = true)\n",
      " |-- Embarked: string (nullable = true)\n",
      " |-- Timestamp: timestamp (nullable = true)\n",
      "\n"
     ]
    }
   ],
   "source": [
    "spark = SparkSession.builder.appName(\"PySpark Assignment\").getOrCreate()\n",
    "titanic = spark.read.option(\"header\", \"true\").option(\"inferSchema\", \"true\").option(\"header\", \"false\").csv(\"data/titanic.csv\")\n",
    "columns = [\"PassengerId\",\"Survived\",\"Pclass\",\"Name\",\"Sex\",\"Age\",\"SibSp\",\"Parch\",\"Ticket\",\"Fare\",\"Cabin\",\"Embarked\",\"Timestamp\"]\n",
    "\n",
    "for i, col_name in enumerate(titanic.columns):\n",
    "    titanic = titanic.withColumnRenamed(col_name, columns[i])\n",
    "titanic.printSchema()"
   ]
  },
  {
   "cell_type": "markdown",
   "id": "13107dfb-3781-4e48-8fbd-119ec9e51890",
   "metadata": {},
   "source": [
    "### Modifying the Schema\n",
    "Changing the data type of survived to string and coverting the binary values into string so that we can categorize it."
   ]
  },
  {
   "cell_type": "code",
   "execution_count": 3,
   "id": "4eb48c52-78be-41d4-bfa9-090674d2f596",
   "metadata": {},
   "outputs": [
    {
     "name": "stdout",
     "output_type": "stream",
     "text": [
      "+-----------+--------+------+--------------------+------+----+-----+-----+----------------+-------+-----+--------+-------------------+\n",
      "|PassengerId|Survived|Pclass|                Name|   Sex| Age|SibSp|Parch|          Ticket|   Fare|Cabin|Embarked|          Timestamp|\n",
      "+-----------+--------+------+--------------------+------+----+-----+-----+----------------+-------+-----+--------+-------------------+\n",
      "|          1|      No|     3|Braund, Mr. Owen ...|  male|  22|    1|    0|       A/5 21171|   7.25| null|       S|2020-01-01 13:45:25|\n",
      "|          2|     Yes|     1|Cumings, Mrs. Joh...|female|  38|    1|    0|        PC 17599|71.2833|  C85|       C|2020-01-01 13:44:48|\n",
      "|          3|     Yes|     3|Heikkinen, Miss. ...|female|  26|    0|    0|STON/O2. 3101282|  7.925| null|       S|2020-01-01 13:38:11|\n",
      "|          4|     Yes|     1|Futrelle, Mrs. Ja...|female|  35|    1|    0|          113803|   53.1| C123|       S|2020-01-01 13:32:00|\n",
      "|          5|      No|     3|Allen, Mr. Willia...|  male|  35|    0|    0|          373450|   8.05| null|       S|2020-01-01 13:36:30|\n",
      "|          6|      No|     3|    Moran, Mr. James|  male|null|    0|    0|          330877| 8.4583| null|       Q|2020-01-01 13:31:39|\n",
      "|          7|      No|     1|McCarthy, Mr. Tim...|  male|  54|    0|    0|           17463|51.8625|  E46|       S|2020-01-01 13:37:31|\n",
      "|          8|      No|     3|Palsson, Master. ...|  male|   2|    3|    1|          349909| 21.075| null|       S|2020-01-01 13:49:08|\n",
      "|          9|     Yes|     3|Johnson, Mrs. Osc...|female|  27|    0|    2|          347742|11.1333| null|       S|2020-01-01 13:33:42|\n",
      "|         10|     Yes|     2|Nasser, Mrs. Nich...|female|  14|    1|    0|          237736|30.0708| null|       C|2020-01-01 13:32:53|\n",
      "|         11|     Yes|     3|Sandstrom, Miss. ...|female|   4|    1|    1|         PP 9549|   16.7|   G6|       S|2020-01-01 13:32:23|\n",
      "|         12|     Yes|     1|Bonnell, Miss. El...|female|  58|    0|    0|          113783|  26.55| C103|       S|2020-01-01 13:30:12|\n",
      "|         13|      No|     3|Saundercock, Mr. ...|  male|  20|    0|    0|       A/5. 2151|   8.05| null|       S|2020-01-01 13:33:34|\n",
      "|         14|      No|     3|Andersson, Mr. An...|  male|  39|    1|    5|          347082| 31.275| null|       S|2020-01-01 13:30:20|\n",
      "|         15|      No|     3|Vestrom, Miss. Hu...|female|  14|    0|    0|          350406| 7.8542| null|       S|2020-01-01 13:41:17|\n",
      "|         16|     Yes|     2|Hewlett, Mrs. (Ma...|female|  55|    0|    0|          248706|   16.0| null|       S|2020-01-01 13:34:22|\n",
      "|         17|      No|     3|Rice, Master. Eugene|  male|   2|    4|    1|          382652| 29.125| null|       Q|2020-01-01 13:41:55|\n",
      "|         18|     Yes|     2|Williams, Mr. Cha...|  male|null|    0|    0|          244373|   13.0| null|       S|2020-01-01 13:39:35|\n",
      "|         19|      No|     3|Vander Planke, Mr...|female|  31|    1|    0|          345763|   18.0| null|       S|2020-01-01 13:39:38|\n",
      "|         20|     Yes|     3|Masselmani, Mrs. ...|female|null|    0|    0|            2649|  7.225| null|       C|2020-01-01 13:36:56|\n",
      "+-----------+--------+------+--------------------+------+----+-----+-----+----------------+-------+-----+--------+-------------------+\n",
      "only showing top 20 rows\n",
      "\n"
     ]
    }
   ],
   "source": [
    "titanic = titanic.withColumn(\"Survived\", when(col(\"Survived\") == 0, \"No\").otherwise(\"Yes\").cast(\"string\"))\n",
    "titanic.show()\n"
   ]
  },
  {
   "cell_type": "markdown",
   "id": "2042750d-429f-43f1-8727-3ee9866ced80",
   "metadata": {},
   "source": [
    "### Updated Schema"
   ]
  },
  {
   "cell_type": "code",
   "execution_count": 4,
   "id": "c51bfa0e-54b8-430c-80a4-dabebda828f4",
   "metadata": {},
   "outputs": [
    {
     "name": "stdout",
     "output_type": "stream",
     "text": [
      "root\n",
      " |-- PassengerId: integer (nullable = true)\n",
      " |-- Survived: string (nullable = false)\n",
      " |-- Pclass: integer (nullable = true)\n",
      " |-- Name: string (nullable = true)\n",
      " |-- Sex: string (nullable = true)\n",
      " |-- Age: integer (nullable = true)\n",
      " |-- SibSp: integer (nullable = true)\n",
      " |-- Parch: integer (nullable = true)\n",
      " |-- Ticket: string (nullable = true)\n",
      " |-- Fare: double (nullable = true)\n",
      " |-- Cabin: string (nullable = true)\n",
      " |-- Embarked: string (nullable = true)\n",
      " |-- Timestamp: timestamp (nullable = true)\n",
      "\n"
     ]
    }
   ],
   "source": [
    "titanic.printSchema()"
   ]
  },
  {
   "cell_type": "code",
   "execution_count": 5,
   "id": "6c046106-6bdb-40bc-bac1-c29782afefd9",
   "metadata": {},
   "outputs": [
    {
     "name": "stdout",
     "output_type": "stream",
     "text": [
      "+-----------+--------+------+--------------------+------+----+-----+-----+----------------+-------+-----+--------+-------------------+\n",
      "|PassengerId|Survived|Pclass|                Name|   Sex| Age|SibSp|Parch|          Ticket|   Fare|Cabin|Embarked|          Timestamp|\n",
      "+-----------+--------+------+--------------------+------+----+-----+-----+----------------+-------+-----+--------+-------------------+\n",
      "|          1|      No|     3|Braund, Mr. Owen ...|  male|  22|    1|    0|       A/5 21171|   7.25| null|       S|2020-01-01 13:45:25|\n",
      "|          2|     Yes|     1|Cumings, Mrs. Joh...|female|  38|    1|    0|        PC 17599|71.2833|  C85|       C|2020-01-01 13:44:48|\n",
      "|          3|     Yes|     3|Heikkinen, Miss. ...|female|  26|    0|    0|STON/O2. 3101282|  7.925| null|       S|2020-01-01 13:38:11|\n",
      "|          4|     Yes|     1|Futrelle, Mrs. Ja...|female|  35|    1|    0|          113803|   53.1| C123|       S|2020-01-01 13:32:00|\n",
      "|          5|      No|     3|Allen, Mr. Willia...|  male|  35|    0|    0|          373450|   8.05| null|       S|2020-01-01 13:36:30|\n",
      "|          6|      No|     3|    Moran, Mr. James|  male|null|    0|    0|          330877| 8.4583| null|       Q|2020-01-01 13:31:39|\n",
      "|          7|      No|     1|McCarthy, Mr. Tim...|  male|  54|    0|    0|           17463|51.8625|  E46|       S|2020-01-01 13:37:31|\n",
      "|          8|      No|     3|Palsson, Master. ...|  male|   2|    3|    1|          349909| 21.075| null|       S|2020-01-01 13:49:08|\n",
      "|          9|     Yes|     3|Johnson, Mrs. Osc...|female|  27|    0|    2|          347742|11.1333| null|       S|2020-01-01 13:33:42|\n",
      "|         10|     Yes|     2|Nasser, Mrs. Nich...|female|  14|    1|    0|          237736|30.0708| null|       C|2020-01-01 13:32:53|\n",
      "|         11|     Yes|     3|Sandstrom, Miss. ...|female|   4|    1|    1|         PP 9549|   16.7|   G6|       S|2020-01-01 13:32:23|\n",
      "|         12|     Yes|     1|Bonnell, Miss. El...|female|  58|    0|    0|          113783|  26.55| C103|       S|2020-01-01 13:30:12|\n",
      "|         13|      No|     3|Saundercock, Mr. ...|  male|  20|    0|    0|       A/5. 2151|   8.05| null|       S|2020-01-01 13:33:34|\n",
      "|         14|      No|     3|Andersson, Mr. An...|  male|  39|    1|    5|          347082| 31.275| null|       S|2020-01-01 13:30:20|\n",
      "|         15|      No|     3|Vestrom, Miss. Hu...|female|  14|    0|    0|          350406| 7.8542| null|       S|2020-01-01 13:41:17|\n",
      "|         16|     Yes|     2|Hewlett, Mrs. (Ma...|female|  55|    0|    0|          248706|   16.0| null|       S|2020-01-01 13:34:22|\n",
      "|         17|      No|     3|Rice, Master. Eugene|  male|   2|    4|    1|          382652| 29.125| null|       Q|2020-01-01 13:41:55|\n",
      "|         18|     Yes|     2|Williams, Mr. Cha...|  male|null|    0|    0|          244373|   13.0| null|       S|2020-01-01 13:39:35|\n",
      "|         19|      No|     3|Vander Planke, Mr...|female|  31|    1|    0|          345763|   18.0| null|       S|2020-01-01 13:39:38|\n",
      "|         20|     Yes|     3|Masselmani, Mrs. ...|female|null|    0|    0|            2649|  7.225| null|       C|2020-01-01 13:36:56|\n",
      "+-----------+--------+------+--------------------+------+----+-----+-----+----------------+-------+-----+--------+-------------------+\n",
      "only showing top 20 rows\n",
      "\n"
     ]
    }
   ],
   "source": [
    "titanic.show()"
   ]
  },
  {
   "cell_type": "markdown",
   "id": "7bc354f0-9325-4bf5-a222-c3d7ee227ef4",
   "metadata": {},
   "source": [
    "### Checking the minimum, maximum and mean values of the numerical data"
   ]
  },
  {
   "cell_type": "code",
   "execution_count": 6,
   "id": "cd83ef86-c431-4268-a5d9-c3223109d6de",
   "metadata": {},
   "outputs": [
    {
     "name": "stdout",
     "output_type": "stream",
     "text": [
      "+-------+------------------+------------------+------------------+------------------+-----------------+------------------+\n",
      "|summary|       PassengerId|            Pclass|               Age|             SibSp|            Parch|              Fare|\n",
      "+-------+------------------+------------------+------------------+------------------+-----------------+------------------+\n",
      "|    min|                 1|0.8360712409770491|                 0|                 0|                0|               0.0|\n",
      "|    max|               891|               891|                80|               891|              891|               891|\n",
      "|   mean|497.27076840304596|179.62894264325715|167.64315089562422|180.12515025772694|179.6375301872114|297.04536731315113|\n",
      "+-------+------------------+------------------+------------------+------------------+-----------------+------------------+\n",
      "\n"
     ]
    }
   ],
   "source": [
    "numerical_cols = [col_name for col_name, col_type in titanic.dtypes if col_type in ['int', 'bigint', 'float', 'double']]\n",
    "numerical_df = titanic.select(*numerical_cols)\n",
    "\n",
    "\n",
    "min_max_mean=numerical_df.describe()\n",
    "min_max_mean.select(numerical_cols).summary('min','max','mean').show()"
   ]
  },
  {
   "cell_type": "markdown",
   "id": "a50ceecf-7cae-40ff-8e18-be3d5f918456",
   "metadata": {},
   "source": [
    "## Udf function to change the last letter of categorical data to 1"
   ]
  },
  {
   "cell_type": "code",
   "execution_count": 7,
   "id": "f8406648-3c20-474b-a8b3-43853a2fd486",
   "metadata": {},
   "outputs": [
    {
     "name": "stdout",
     "output_type": "stream",
     "text": [
      "+-----------+--------+------+--------------------+------+----+-----+-----+----------------+-------+-----+--------+-------------------+\n",
      "|PassengerId|Survived|Pclass|                Name|   Sex| Age|SibSp|Parch|          Ticket|   Fare|Cabin|Embarked|          Timestamp|\n",
      "+-----------+--------+------+--------------------+------+----+-----+-----+----------------+-------+-----+--------+-------------------+\n",
      "|          1|      N1|     3|Braund, Mr. Owen ...|  mal1|  22|    1|    0|       A/5 21171|   7.25| null|       1|2020-01-01 13:45:25|\n",
      "|          2|     Ye1|     1|Cumings, Mrs. Joh...|femal1|  38|    1|    0|        PC 17599|71.2833|  C81|       1|2020-01-01 13:44:48|\n",
      "|          3|     Ye1|     3|Heikkinen, Miss. ...|femal1|  26|    0|    0|STON/O2. 3101282|  7.925| null|       1|2020-01-01 13:38:11|\n",
      "|          4|     Ye1|     1|Futrelle, Mrs. Ja...|femal1|  35|    1|    0|          113803|   53.1| C121|       1|2020-01-01 13:32:00|\n",
      "|          5|      N1|     3|Allen, Mr. Willia...|  mal1|  35|    0|    0|          373450|   8.05| null|       1|2020-01-01 13:36:30|\n",
      "|          6|      N1|     3|    Moran, Mr. James|  mal1|null|    0|    0|          330877| 8.4583| null|       1|2020-01-01 13:31:39|\n",
      "|          7|      N1|     1|McCarthy, Mr. Tim...|  mal1|  54|    0|    0|           17463|51.8625|  E41|       1|2020-01-01 13:37:31|\n",
      "|          8|      N1|     3|Palsson, Master. ...|  mal1|   2|    3|    1|          349909| 21.075| null|       1|2020-01-01 13:49:08|\n",
      "|          9|     Ye1|     3|Johnson, Mrs. Osc...|femal1|  27|    0|    2|          347742|11.1333| null|       1|2020-01-01 13:33:42|\n",
      "|         10|     Ye1|     2|Nasser, Mrs. Nich...|femal1|  14|    1|    0|          237736|30.0708| null|       1|2020-01-01 13:32:53|\n",
      "|         11|     Ye1|     3|Sandstrom, Miss. ...|femal1|   4|    1|    1|         PP 9549|   16.7|   G1|       1|2020-01-01 13:32:23|\n",
      "|         12|     Ye1|     1|Bonnell, Miss. El...|femal1|  58|    0|    0|          113783|  26.55| C101|       1|2020-01-01 13:30:12|\n",
      "|         13|      N1|     3|Saundercock, Mr. ...|  mal1|  20|    0|    0|       A/5. 2151|   8.05| null|       1|2020-01-01 13:33:34|\n",
      "|         14|      N1|     3|Andersson, Mr. An...|  mal1|  39|    1|    5|          347082| 31.275| null|       1|2020-01-01 13:30:20|\n",
      "|         15|      N1|     3|Vestrom, Miss. Hu...|femal1|  14|    0|    0|          350406| 7.8542| null|       1|2020-01-01 13:41:17|\n",
      "|         16|     Ye1|     2|Hewlett, Mrs. (Ma...|femal1|  55|    0|    0|          248706|   16.0| null|       1|2020-01-01 13:34:22|\n",
      "|         17|      N1|     3|Rice, Master. Eugene|  mal1|   2|    4|    1|          382652| 29.125| null|       1|2020-01-01 13:41:55|\n",
      "|         18|     Ye1|     2|Williams, Mr. Cha...|  mal1|null|    0|    0|          244373|   13.0| null|       1|2020-01-01 13:39:35|\n",
      "|         19|      N1|     3|Vander Planke, Mr...|femal1|  31|    1|    0|          345763|   18.0| null|       1|2020-01-01 13:39:38|\n",
      "|         20|     Ye1|     3|Masselmani, Mrs. ...|femal1|null|    0|    0|            2649|  7.225| null|       1|2020-01-01 13:36:56|\n",
      "+-----------+--------+------+--------------------+------+----+-----+-----+----------------+-------+-----+--------+-------------------+\n",
      "only showing top 20 rows\n",
      "\n"
     ]
    }
   ],
   "source": [
    "cat_columns = [\"Sex\",\"Cabin\",\"Embarked\",\"Survived\"]\n",
    "\n",
    "def change_last_letter_after_space(word):\n",
    "    if word is not None:\n",
    "        words = word.split()\n",
    "        for i in range(len(words)):\n",
    "            words[i] = words[i][:-1] + \"1\"\n",
    "        return \" \".join(words)\n",
    "    return word\n",
    "change_last_letter_udf = udf(change_last_letter_after_space, StringType())\n",
    "for column in cat_columns:\n",
    "    titanic = titanic.withColumn(column, change_last_letter_udf(titanic[column]))\n",
    "titanic.show()\n",
    "    "
   ]
  },
  {
   "cell_type": "markdown",
   "id": "06f5306e-4995-4f93-8fcf-3e5eae9468a4",
   "metadata": {},
   "source": [
    "## Sorting the DataFrame by its first column"
   ]
  },
  {
   "cell_type": "code",
   "execution_count": 8,
   "id": "3e845da4-cc55-484f-9424-27858d7b3c02",
   "metadata": {},
   "outputs": [
    {
     "name": "stdout",
     "output_type": "stream",
     "text": [
      "+-----------+--------+------+--------------------+------+----+-----+-----+----------------+-------+-----+--------+-------------------+\n",
      "|PassengerId|Survived|Pclass|                Name|   Sex| Age|SibSp|Parch|          Ticket|   Fare|Cabin|Embarked|          Timestamp|\n",
      "+-----------+--------+------+--------------------+------+----+-----+-----+----------------+-------+-----+--------+-------------------+\n",
      "|          1|      N1|     3|Braund, Mr. Owen ...|  mal1|  22|    1|    0|       A/5 21171|   7.25| null|       1|2020-01-01 13:45:25|\n",
      "|          2|     Ye1|     1|Cumings, Mrs. Joh...|femal1|  38|    1|    0|        PC 17599|71.2833|  C81|       1|2020-01-01 13:44:48|\n",
      "|          3|     Ye1|     3|Heikkinen, Miss. ...|femal1|  26|    0|    0|STON/O2. 3101282|  7.925| null|       1|2020-01-01 13:38:11|\n",
      "|          4|     Ye1|     1|Futrelle, Mrs. Ja...|femal1|  35|    1|    0|          113803|   53.1| C121|       1|2020-01-01 13:32:00|\n",
      "|          5|      N1|     3|Allen, Mr. Willia...|  mal1|  35|    0|    0|          373450|   8.05| null|       1|2020-01-01 13:36:30|\n",
      "|          6|      N1|     3|    Moran, Mr. James|  mal1|null|    0|    0|          330877| 8.4583| null|       1|2020-01-01 13:31:39|\n",
      "|          7|      N1|     1|McCarthy, Mr. Tim...|  mal1|  54|    0|    0|           17463|51.8625|  E41|       1|2020-01-01 13:37:31|\n",
      "|          8|      N1|     3|Palsson, Master. ...|  mal1|   2|    3|    1|          349909| 21.075| null|       1|2020-01-01 13:49:08|\n",
      "|          9|     Ye1|     3|Johnson, Mrs. Osc...|femal1|  27|    0|    2|          347742|11.1333| null|       1|2020-01-01 13:33:42|\n",
      "|         10|     Ye1|     2|Nasser, Mrs. Nich...|femal1|  14|    1|    0|          237736|30.0708| null|       1|2020-01-01 13:32:53|\n",
      "|         11|     Ye1|     3|Sandstrom, Miss. ...|femal1|   4|    1|    1|         PP 9549|   16.7|   G1|       1|2020-01-01 13:32:23|\n",
      "|         12|     Ye1|     1|Bonnell, Miss. El...|femal1|  58|    0|    0|          113783|  26.55| C101|       1|2020-01-01 13:30:12|\n",
      "|         13|      N1|     3|Saundercock, Mr. ...|  mal1|  20|    0|    0|       A/5. 2151|   8.05| null|       1|2020-01-01 13:33:34|\n",
      "|         14|      N1|     3|Andersson, Mr. An...|  mal1|  39|    1|    5|          347082| 31.275| null|       1|2020-01-01 13:30:20|\n",
      "|         15|      N1|     3|Vestrom, Miss. Hu...|femal1|  14|    0|    0|          350406| 7.8542| null|       1|2020-01-01 13:41:17|\n",
      "|         16|     Ye1|     2|Hewlett, Mrs. (Ma...|femal1|  55|    0|    0|          248706|   16.0| null|       1|2020-01-01 13:34:22|\n",
      "|         17|      N1|     3|Rice, Master. Eugene|  mal1|   2|    4|    1|          382652| 29.125| null|       1|2020-01-01 13:41:55|\n",
      "|         18|     Ye1|     2|Williams, Mr. Cha...|  mal1|null|    0|    0|          244373|   13.0| null|       1|2020-01-01 13:39:35|\n",
      "|         19|      N1|     3|Vander Planke, Mr...|femal1|  31|    1|    0|          345763|   18.0| null|       1|2020-01-01 13:39:38|\n",
      "|         20|     Ye1|     3|Masselmani, Mrs. ...|femal1|null|    0|    0|            2649|  7.225| null|       1|2020-01-01 13:36:56|\n",
      "+-----------+--------+------+--------------------+------+----+-----+-----+----------------+-------+-----+--------+-------------------+\n",
      "only showing top 20 rows\n",
      "\n"
     ]
    }
   ],
   "source": [
    "sorted_titanic = titanic.orderBy(titanic.columns[0])\n",
    "sorted_titanic.show()"
   ]
  },
  {
   "cell_type": "markdown",
   "id": "cacde722-16fb-429b-a2ec-479e0b65c98e",
   "metadata": {},
   "source": [
    "## Saving the Resultant Dataset in parquet\n",
    "this code overwrites each time the changes are made and the file is saved."
   ]
  },
  {
   "cell_type": "code",
   "execution_count": 10,
   "id": "d2cfa395-eed7-473b-8da8-8d5d121bb828",
   "metadata": {},
   "outputs": [],
   "source": [
    "try:\n",
    "    sorted_titanic.write.mode('overwrite').parquet(\"titanic_results.parquet\")\n",
    "except:\n",
    "    print('Expection caught')"
   ]
  },
  {
   "cell_type": "code",
   "execution_count": null,
   "id": "87b11cfd-545f-4980-8f48-a1fef2491f8a",
   "metadata": {},
   "outputs": [],
   "source": []
  }
 ],
 "metadata": {
  "kernelspec": {
   "display_name": "Python 3 (ipykernel)",
   "language": "python",
   "name": "python3"
  },
  "language_info": {
   "codemirror_mode": {
    "name": "ipython",
    "version": 3
   },
   "file_extension": ".py",
   "mimetype": "text/x-python",
   "name": "python",
   "nbconvert_exporter": "python",
   "pygments_lexer": "ipython3",
   "version": "3.10.8"
  }
 },
 "nbformat": 4,
 "nbformat_minor": 5
}
