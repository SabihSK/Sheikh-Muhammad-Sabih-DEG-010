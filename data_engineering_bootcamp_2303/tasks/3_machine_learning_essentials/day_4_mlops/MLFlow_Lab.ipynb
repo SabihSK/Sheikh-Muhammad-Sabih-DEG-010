{
 "cells": [
  {
   "cell_type": "code",
   "execution_count": null,
   "id": "98007f5d-4638-4e8e-b8f6-fc88c7c10e53",
   "metadata": {},
   "outputs": [],
   "source": [
    "!python -c \"import sys; print(sys.executable)\""
   ]
  },
  {
   "cell_type": "markdown",
   "id": "30fc0892-2f9b-411a-8859-80ee9a8501d9",
   "metadata": {},
   "source": [
    "# MLFlow lab"
   ]
  },
  {
   "cell_type": "code",
   "execution_count": null,
   "id": "927f1855-de23-43cc-ad1c-ee2a0dd03ccd",
   "metadata": {},
   "outputs": [],
   "source": [
    "import pandas as pd"
   ]
  },
  {
   "cell_type": "code",
   "execution_count": null,
   "id": "8dd234da-9558-48a2-ac9e-b558660da1a6",
   "metadata": {},
   "outputs": [],
   "source": [
    "pd.__version__"
   ]
  },
  {
   "cell_type": "markdown",
   "id": "87a0110c-4c87-40c3-af3b-75072bb6f210",
   "metadata": {
    "tags": []
   },
   "source": [
    "### Setting up MLFlow tracking server\n",
    "\n",
    "We also specify artifact root and backend store URI. This makes it possible to store models.\n",
    "\n",
    "After running this command tracking server will be accessible at `localhost:5000`"
   ]
  },
  {
   "cell_type": "code",
   "execution_count": null,
   "id": "b915f9e2-3f6e-46f4-8308-98a5330d400c",
   "metadata": {},
   "outputs": [],
   "source": [
    "%%bash --bg\n",
    "\n",
    "mlflow server --host 0.0.0.0 \\\n",
    "    --port 5000 \\\n",
    "    --backend-store-uri sqlite:///mlflow.db \\\n",
    "    --default-artifact-root ./mlruns"
   ]
  },
  {
   "cell_type": "markdown",
   "id": "5f3df5d7-871f-44bb-ab96-bed4ab51857d",
   "metadata": {},
   "source": [
    "### MLProject file\n",
    "\n",
    "This file is used to configure MLFlow steps.\n",
    "\n",
    "Using `MLproject` we can define our project's pipeline steps, called *entry points*.\n",
    "\n",
    "Each entry point in this file corresponds to a shell command.\n",
    "\n",
    "Entry points can be ran using\n",
    "\n",
    "```\n",
    "mlflow run -e <ENTRY_POINT>\n",
    "```\n",
    "\n",
    "By default `mlflow run` runs `main` entrypoint."
   ]
  },
  {
   "cell_type": "code",
   "execution_count": null,
   "id": "1999ca3a-1538-43a1-9a26-552924809051",
   "metadata": {},
   "outputs": [],
   "source": [
    "%cat MLproject"
   ]
  },
  {
   "cell_type": "markdown",
   "id": "f1ad96ca-ea8a-4ed7-a989-b0ef65b3337d",
   "metadata": {},
   "source": [
    "First we need to download data. We will use weather data from previous machine learning tutorial."
   ]
  },
  {
   "cell_type": "code",
   "execution_count": null,
   "id": "1bebda26-7710-4658-821f-6d471379f2ae",
   "metadata": {},
   "outputs": [],
   "source": [
    "%%bash\n",
    "source mlflow_env_vars.sh\n",
    "mlflow run .  -e download_data"
   ]
  },
  {
   "cell_type": "markdown",
   "id": "0a7fd2b5-536f-46f5-88d6-1e2693c473f8",
   "metadata": {},
   "source": [
    "## Training\n",
    "\n",
    "Now we can train models. See `train.py`.\n",
    "It contains code from supervised machine learning tutorial; we added tracking metrics and model.\n",
    "\n",
    "We will train kNN models for $k \\in \\{1, 2, ..., 10\\}$ using *temperature* and *casual* features.\n",
    "\n",
    "After running this command you can go to `localhost:5000` and see the trained models."
   ]
  },
  {
   "cell_type": "code",
   "execution_count": null,
   "id": "728ad762-eae9-4448-821e-542e3a584c02",
   "metadata": {},
   "outputs": [],
   "source": [
    "import sklearn"
   ]
  },
  {
   "cell_type": "code",
   "execution_count": null,
   "id": "ac5438a4-abe7-4d62-93e2-7cb45129b060",
   "metadata": {},
   "outputs": [],
   "source": [
    "sklearn.__version__"
   ]
  },
  {
   "cell_type": "code",
   "execution_count": null,
   "id": "d0c428dd-75c9-4968-bcce-4e43960ef309",
   "metadata": {},
   "outputs": [],
   "source": [
    "%%bash\n",
    "source mlflow_env_vars.sh\n",
    "mlflow run . "
   ]
  },
  {
   "cell_type": "markdown",
   "id": "c60189ad-f9df-4fee-b866-7fd2fc326336",
   "metadata": {},
   "source": [
    "## Inspecting stored models\n",
    "\n",
    "The trained models are stored in `mlruns/0`.\n",
    "\n",
    "These directories contain artifacts and config that is needed to serve them."
   ]
  },
  {
   "cell_type": "code",
   "execution_count": null,
   "id": "e839cd69-ab87-4810-8d8f-458866a1ff8d",
   "metadata": {},
   "outputs": [],
   "source": [
    "%%bash\n",
    "last_model_path=$(ls -tr mlruns/0/ | tail -1)\n",
    "cat mlruns/0/$last_model_path/artifacts/knn/MLmodel"
   ]
  },
  {
   "cell_type": "code",
   "execution_count": null,
   "id": "ae7a3b10-e73e-458e-a86d-73c5353af294",
   "metadata": {},
   "outputs": [],
   "source": [
    "import mlflow"
   ]
  },
  {
   "cell_type": "code",
   "execution_count": null,
   "id": "b492d50f-9d12-4c97-a697-bacd34eba1b8",
   "metadata": {},
   "outputs": [],
   "source": [
    "mlflow.__version__"
   ]
  },
  {
   "cell_type": "markdown",
   "id": "4a4654c1-33c9-49d1-bfac-d8090dec79f1",
   "metadata": {},
   "source": [
    "## Serving model\n",
    "\n",
    "Now that we trained our models we can go to *Models* page on MLFLow UI (http://localhost:5000/#/models).\n",
    "\n",
    "Click *sklearn_knn* on this page, choose a model and move it to *Production* stage.\n",
    "\n",
    "The following cell will serve the model at localhost on port 5001."
   ]
  },
  {
   "cell_type": "code",
   "execution_count": null,
   "id": "ef644f7b-ad7e-4a3b-8b4e-df6a20e85290",
   "metadata": {},
   "outputs": [],
   "source": [
    "%%bash --bg\n",
    "source mlflow_env_vars.sh\n",
    "mlflow --version\n",
    "mlflow models serve -m models:/sklearn_knn/Production -p 5001 --env-manager=conda \n"
   ]
  },
  {
   "cell_type": "markdown",
   "id": "7f81d979-a94c-4307-a5f6-cd95a5c4eeff",
   "metadata": {},
   "source": [
    "# Prediction\n",
    "\n",
    "We'll load data that we can feed into prediction server."
   ]
  },
  {
   "cell_type": "code",
   "execution_count": null,
   "id": "d684121e-1ce1-433c-9349-9ef539e3f36b",
   "metadata": {},
   "outputs": [],
   "source": [
    "df = pd.read_csv(\"day.csv\")[[\"temp\", \"casual\", \"season\"]]\n",
    "df[\"is_winter\"] = df[\"season\"] == 1\n",
    "\n",
    "df[~df[\"is_winter\"]].head()"
   ]
  },
  {
   "cell_type": "markdown",
   "id": "2516ceaf-45b5-4d67-a63d-048cc8086d63",
   "metadata": {},
   "source": [
    "Let's predict for first winter day and first non-winter day (first rows of previous two dataframes)\n",
    "\n",
    "**warning: this might fail at first because the prediction server didn't spin up; in this case wait a minute**"
   ]
  },
  {
   "cell_type": "code",
   "execution_count": null,
   "id": "650174ad-bb37-4fe3-b450-b8ba7889bfe6",
   "metadata": {},
   "outputs": [],
   "source": [
    "%%bash\n",
    "data='[[0.344,331], [0.43, 401]]'\n",
    "echo $data\n",
    "\n",
    "curl -d \"{\\\"inputs\\\": $data}\" -H 'Content-Type: application/json' 127.0.0.1:5001/invocations"
   ]
  },
  {
   "cell_type": "code",
   "execution_count": null,
   "id": "61bf3366-18cc-4bcd-a927-f7211d9e3b7c",
   "metadata": {},
   "outputs": [],
   "source": [
    "%%bash\n",
    "data='[[0.344,331], [0.43, 401]]'\n",
    "echo $data\n",
    "\n",
    "curl -d \"{\\\"instances\\\": $data}\" -H 'Content-Type: application/json' 127.0.0.1:5001/invocations"
   ]
  },
  {
   "cell_type": "code",
   "execution_count": null,
   "id": "e8d788af-af76-4616-9377-4accb1f29696",
   "metadata": {},
   "outputs": [],
   "source": [
    "%%bash\n",
    "data='[[0.344,331], [0.43, 401]]'\n",
    "columns='[\"temp\",\"casual\"]'\n",
    "echo $data\n",
    "\n",
    "curl -d \"{\\\"dataframe_split\\\":{\\\"columns\\\":[\\\"temp\\\",\\\"casual\\\"],\\\"data\\\": $data}}\" -H 'Content-Type: application/json' 127.0.0.1:5001/invocations"
   ]
  },
  {
   "cell_type": "markdown",
   "id": "d4abd689-28c3-4abb-8465-4035d3fa780c",
   "metadata": {},
   "source": [
    "Voila! We see that the model outputs correct predictions."
   ]
  }
 ],
 "metadata": {
  "kernelspec": {
   "display_name": "Python 3 (ipykernel)",
   "language": "python",
   "name": "python3"
  },
  "language_info": {
   "codemirror_mode": {
    "name": "ipython",
    "version": 3
   },
   "file_extension": ".py",
   "mimetype": "text/x-python",
   "name": "python",
   "nbconvert_exporter": "python",
   "pygments_lexer": "ipython3",
   "version": "3.9.12"
  }
 },
 "nbformat": 4,
 "nbformat_minor": 5
}
