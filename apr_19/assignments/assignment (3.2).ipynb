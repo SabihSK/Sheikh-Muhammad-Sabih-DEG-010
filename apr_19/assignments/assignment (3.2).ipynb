{
 "cells": [
  {
   "cell_type": "code",
   "execution_count": 1,
   "metadata": {},
   "outputs": [],
   "source": [
    "from sklearn import datasets\n",
    "from sklearn.model_selection import train_test_split\n",
    "from sklearn.preprocessing import StandardScaler\n",
    "from sklearn.neighbors import KNeighborsClassifier\n",
    "from sklearn.metrics import f1_score"
   ]
  },
  {
   "cell_type": "code",
   "execution_count": 2,
   "metadata": {},
   "outputs": [
    {
     "data": {
      "text/plain": [
       "{'data': array([[1.423e+01, 1.710e+00, 2.430e+00, ..., 1.040e+00, 3.920e+00,\n",
       "         1.065e+03],\n",
       "        [1.320e+01, 1.780e+00, 2.140e+00, ..., 1.050e+00, 3.400e+00,\n",
       "         1.050e+03],\n",
       "        [1.316e+01, 2.360e+00, 2.670e+00, ..., 1.030e+00, 3.170e+00,\n",
       "         1.185e+03],\n",
       "        ...,\n",
       "        [1.327e+01, 4.280e+00, 2.260e+00, ..., 5.900e-01, 1.560e+00,\n",
       "         8.350e+02],\n",
       "        [1.317e+01, 2.590e+00, 2.370e+00, ..., 6.000e-01, 1.620e+00,\n",
       "         8.400e+02],\n",
       "        [1.413e+01, 4.100e+00, 2.740e+00, ..., 6.100e-01, 1.600e+00,\n",
       "         5.600e+02]]),\n",
       " 'target': array([0, 0, 0, 0, 0, 0, 0, 0, 0, 0, 0, 0, 0, 0, 0, 0, 0, 0, 0, 0, 0, 0,\n",
       "        0, 0, 0, 0, 0, 0, 0, 0, 0, 0, 0, 0, 0, 0, 0, 0, 0, 0, 0, 0, 0, 0,\n",
       "        0, 0, 0, 0, 0, 0, 0, 0, 0, 0, 0, 0, 0, 0, 0, 1, 1, 1, 1, 1, 1, 1,\n",
       "        1, 1, 1, 1, 1, 1, 1, 1, 1, 1, 1, 1, 1, 1, 1, 1, 1, 1, 1, 1, 1, 1,\n",
       "        1, 1, 1, 1, 1, 1, 1, 1, 1, 1, 1, 1, 1, 1, 1, 1, 1, 1, 1, 1, 1, 1,\n",
       "        1, 1, 1, 1, 1, 1, 1, 1, 1, 1, 1, 1, 1, 1, 1, 1, 1, 1, 1, 1, 2, 2,\n",
       "        2, 2, 2, 2, 2, 2, 2, 2, 2, 2, 2, 2, 2, 2, 2, 2, 2, 2, 2, 2, 2, 2,\n",
       "        2, 2, 2, 2, 2, 2, 2, 2, 2, 2, 2, 2, 2, 2, 2, 2, 2, 2, 2, 2, 2, 2,\n",
       "        2, 2]),\n",
       " 'frame': None,\n",
       " 'target_names': array(['class_0', 'class_1', 'class_2'], dtype='<U7'),\n",
       " 'DESCR': '.. _wine_dataset:\\n\\nWine recognition dataset\\n------------------------\\n\\n**Data Set Characteristics:**\\n\\n    :Number of Instances: 178\\n    :Number of Attributes: 13 numeric, predictive attributes and the class\\n    :Attribute Information:\\n \\t\\t- Alcohol\\n \\t\\t- Malic acid\\n \\t\\t- Ash\\n\\t\\t- Alcalinity of ash  \\n \\t\\t- Magnesium\\n\\t\\t- Total phenols\\n \\t\\t- Flavanoids\\n \\t\\t- Nonflavanoid phenols\\n \\t\\t- Proanthocyanins\\n\\t\\t- Color intensity\\n \\t\\t- Hue\\n \\t\\t- OD280/OD315 of diluted wines\\n \\t\\t- Proline\\n\\n    - class:\\n            - class_0\\n            - class_1\\n            - class_2\\n\\t\\t\\n    :Summary Statistics:\\n    \\n    ============================= ==== ===== ======= =====\\n                                   Min   Max   Mean     SD\\n    ============================= ==== ===== ======= =====\\n    Alcohol:                      11.0  14.8    13.0   0.8\\n    Malic Acid:                   0.74  5.80    2.34  1.12\\n    Ash:                          1.36  3.23    2.36  0.27\\n    Alcalinity of Ash:            10.6  30.0    19.5   3.3\\n    Magnesium:                    70.0 162.0    99.7  14.3\\n    Total Phenols:                0.98  3.88    2.29  0.63\\n    Flavanoids:                   0.34  5.08    2.03  1.00\\n    Nonflavanoid Phenols:         0.13  0.66    0.36  0.12\\n    Proanthocyanins:              0.41  3.58    1.59  0.57\\n    Colour Intensity:              1.3  13.0     5.1   2.3\\n    Hue:                          0.48  1.71    0.96  0.23\\n    OD280/OD315 of diluted wines: 1.27  4.00    2.61  0.71\\n    Proline:                       278  1680     746   315\\n    ============================= ==== ===== ======= =====\\n\\n    :Missing Attribute Values: None\\n    :Class Distribution: class_0 (59), class_1 (71), class_2 (48)\\n    :Creator: R.A. Fisher\\n    :Donor: Michael Marshall (MARSHALL%PLU@io.arc.nasa.gov)\\n    :Date: July, 1988\\n\\nThis is a copy of UCI ML Wine recognition datasets.\\nhttps://archive.ics.uci.edu/ml/machine-learning-databases/wine/wine.data\\n\\nThe data is the results of a chemical analysis of wines grown in the same\\nregion in Italy by three different cultivators. There are thirteen different\\nmeasurements taken for different constituents found in the three types of\\nwine.\\n\\nOriginal Owners: \\n\\nForina, M. et al, PARVUS - \\nAn Extendible Package for Data Exploration, Classification and Correlation. \\nInstitute of Pharmaceutical and Food Analysis and Technologies,\\nVia Brigata Salerno, 16147 Genoa, Italy.\\n\\nCitation:\\n\\nLichman, M. (2013). UCI Machine Learning Repository\\n[https://archive.ics.uci.edu/ml]. Irvine, CA: University of California,\\nSchool of Information and Computer Science. \\n\\n.. topic:: References\\n\\n  (1) S. Aeberhard, D. Coomans and O. de Vel, \\n  Comparison of Classifiers in High Dimensional Settings, \\n  Tech. Rep. no. 92-02, (1992), Dept. of Computer Science and Dept. of  \\n  Mathematics and Statistics, James Cook University of North Queensland. \\n  (Also submitted to Technometrics). \\n\\n  The data was used with many others for comparing various \\n  classifiers. The classes are separable, though only RDA \\n  has achieved 100% correct classification. \\n  (RDA : 100%, QDA 99.4%, LDA 98.9%, 1NN 96.1% (z-transformed data)) \\n  (All results using the leave-one-out technique) \\n\\n  (2) S. Aeberhard, D. Coomans and O. de Vel, \\n  \"THE CLASSIFICATION PERFORMANCE OF RDA\" \\n  Tech. Rep. no. 92-01, (1992), Dept. of Computer Science and Dept. of \\n  Mathematics and Statistics, James Cook University of North Queensland. \\n  (Also submitted to Journal of Chemometrics).\\n',\n",
       " 'feature_names': ['alcohol',\n",
       "  'malic_acid',\n",
       "  'ash',\n",
       "  'alcalinity_of_ash',\n",
       "  'magnesium',\n",
       "  'total_phenols',\n",
       "  'flavanoids',\n",
       "  'nonflavanoid_phenols',\n",
       "  'proanthocyanins',\n",
       "  'color_intensity',\n",
       "  'hue',\n",
       "  'od280/od315_of_diluted_wines',\n",
       "  'proline']}"
      ]
     },
     "execution_count": 2,
     "metadata": {},
     "output_type": "execute_result"
    }
   ],
   "source": [
    "wine = datasets.load_wine()\n",
    "wine"
   ]
  },
  {
   "cell_type": "code",
   "execution_count": 3,
   "metadata": {},
   "outputs": [
    {
     "data": {
      "text/plain": [
       "array([[14.23,  1.71,  2.43, 15.6 ],\n",
       "       [13.2 ,  1.78,  2.14, 11.2 ],\n",
       "       [13.16,  2.36,  2.67, 18.6 ],\n",
       "       [14.37,  1.95,  2.5 , 16.8 ],\n",
       "       [13.24,  2.59,  2.87, 21.  ],\n",
       "       [14.2 ,  1.76,  2.45, 15.2 ],\n",
       "       [14.39,  1.87,  2.45, 14.6 ],\n",
       "       [14.06,  2.15,  2.61, 17.6 ],\n",
       "       [14.83,  1.64,  2.17, 14.  ],\n",
       "       [13.86,  1.35,  2.27, 16.  ],\n",
       "       [14.1 ,  2.16,  2.3 , 18.  ],\n",
       "       [14.12,  1.48,  2.32, 16.8 ],\n",
       "       [13.75,  1.73,  2.41, 16.  ],\n",
       "       [14.75,  1.73,  2.39, 11.4 ],\n",
       "       [14.38,  1.87,  2.38, 12.  ],\n",
       "       [13.63,  1.81,  2.7 , 17.2 ],\n",
       "       [14.3 ,  1.92,  2.72, 20.  ],\n",
       "       [13.83,  1.57,  2.62, 20.  ],\n",
       "       [14.19,  1.59,  2.48, 16.5 ],\n",
       "       [13.64,  3.1 ,  2.56, 15.2 ],\n",
       "       [14.06,  1.63,  2.28, 16.  ],\n",
       "       [12.93,  3.8 ,  2.65, 18.6 ],\n",
       "       [13.71,  1.86,  2.36, 16.6 ],\n",
       "       [12.85,  1.6 ,  2.52, 17.8 ],\n",
       "       [13.5 ,  1.81,  2.61, 20.  ],\n",
       "       [13.05,  2.05,  3.22, 25.  ],\n",
       "       [13.39,  1.77,  2.62, 16.1 ],\n",
       "       [13.3 ,  1.72,  2.14, 17.  ],\n",
       "       [13.87,  1.9 ,  2.8 , 19.4 ],\n",
       "       [14.02,  1.68,  2.21, 16.  ],\n",
       "       [13.73,  1.5 ,  2.7 , 22.5 ],\n",
       "       [13.58,  1.66,  2.36, 19.1 ],\n",
       "       [13.68,  1.83,  2.36, 17.2 ],\n",
       "       [13.76,  1.53,  2.7 , 19.5 ],\n",
       "       [13.51,  1.8 ,  2.65, 19.  ],\n",
       "       [13.48,  1.81,  2.41, 20.5 ],\n",
       "       [13.28,  1.64,  2.84, 15.5 ],\n",
       "       [13.05,  1.65,  2.55, 18.  ],\n",
       "       [13.07,  1.5 ,  2.1 , 15.5 ],\n",
       "       [14.22,  3.99,  2.51, 13.2 ],\n",
       "       [13.56,  1.71,  2.31, 16.2 ],\n",
       "       [13.41,  3.84,  2.12, 18.8 ],\n",
       "       [13.88,  1.89,  2.59, 15.  ],\n",
       "       [13.24,  3.98,  2.29, 17.5 ],\n",
       "       [13.05,  1.77,  2.1 , 17.  ],\n",
       "       [14.21,  4.04,  2.44, 18.9 ],\n",
       "       [14.38,  3.59,  2.28, 16.  ],\n",
       "       [13.9 ,  1.68,  2.12, 16.  ],\n",
       "       [14.1 ,  2.02,  2.4 , 18.8 ],\n",
       "       [13.94,  1.73,  2.27, 17.4 ],\n",
       "       [13.05,  1.73,  2.04, 12.4 ],\n",
       "       [13.83,  1.65,  2.6 , 17.2 ],\n",
       "       [13.82,  1.75,  2.42, 14.  ],\n",
       "       [13.77,  1.9 ,  2.68, 17.1 ],\n",
       "       [13.74,  1.67,  2.25, 16.4 ],\n",
       "       [13.56,  1.73,  2.46, 20.5 ],\n",
       "       [14.22,  1.7 ,  2.3 , 16.3 ],\n",
       "       [13.29,  1.97,  2.68, 16.8 ],\n",
       "       [13.72,  1.43,  2.5 , 16.7 ],\n",
       "       [12.37,  0.94,  1.36, 10.6 ],\n",
       "       [12.33,  1.1 ,  2.28, 16.  ],\n",
       "       [12.64,  1.36,  2.02, 16.8 ],\n",
       "       [13.67,  1.25,  1.92, 18.  ],\n",
       "       [12.37,  1.13,  2.16, 19.  ],\n",
       "       [12.17,  1.45,  2.53, 19.  ],\n",
       "       [12.37,  1.21,  2.56, 18.1 ],\n",
       "       [13.11,  1.01,  1.7 , 15.  ],\n",
       "       [12.37,  1.17,  1.92, 19.6 ],\n",
       "       [13.34,  0.94,  2.36, 17.  ],\n",
       "       [12.21,  1.19,  1.75, 16.8 ],\n",
       "       [12.29,  1.61,  2.21, 20.4 ],\n",
       "       [13.86,  1.51,  2.67, 25.  ],\n",
       "       [13.49,  1.66,  2.24, 24.  ],\n",
       "       [12.99,  1.67,  2.6 , 30.  ],\n",
       "       [11.96,  1.09,  2.3 , 21.  ],\n",
       "       [11.66,  1.88,  1.92, 16.  ],\n",
       "       [13.03,  0.9 ,  1.71, 16.  ],\n",
       "       [11.84,  2.89,  2.23, 18.  ],\n",
       "       [12.33,  0.99,  1.95, 14.8 ],\n",
       "       [12.7 ,  3.87,  2.4 , 23.  ],\n",
       "       [12.  ,  0.92,  2.  , 19.  ],\n",
       "       [12.72,  1.81,  2.2 , 18.8 ],\n",
       "       [12.08,  1.13,  2.51, 24.  ],\n",
       "       [13.05,  3.86,  2.32, 22.5 ],\n",
       "       [11.84,  0.89,  2.58, 18.  ],\n",
       "       [12.67,  0.98,  2.24, 18.  ],\n",
       "       [12.16,  1.61,  2.31, 22.8 ],\n",
       "       [11.65,  1.67,  2.62, 26.  ],\n",
       "       [11.64,  2.06,  2.46, 21.6 ],\n",
       "       [12.08,  1.33,  2.3 , 23.6 ],\n",
       "       [12.08,  1.83,  2.32, 18.5 ],\n",
       "       [12.  ,  1.51,  2.42, 22.  ],\n",
       "       [12.69,  1.53,  2.26, 20.7 ],\n",
       "       [12.29,  2.83,  2.22, 18.  ],\n",
       "       [11.62,  1.99,  2.28, 18.  ],\n",
       "       [12.47,  1.52,  2.2 , 19.  ],\n",
       "       [11.81,  2.12,  2.74, 21.5 ],\n",
       "       [12.29,  1.41,  1.98, 16.  ],\n",
       "       [12.37,  1.07,  2.1 , 18.5 ],\n",
       "       [12.29,  3.17,  2.21, 18.  ],\n",
       "       [12.08,  2.08,  1.7 , 17.5 ],\n",
       "       [12.6 ,  1.34,  1.9 , 18.5 ],\n",
       "       [12.34,  2.45,  2.46, 21.  ],\n",
       "       [11.82,  1.72,  1.88, 19.5 ],\n",
       "       [12.51,  1.73,  1.98, 20.5 ],\n",
       "       [12.42,  2.55,  2.27, 22.  ],\n",
       "       [12.25,  1.73,  2.12, 19.  ],\n",
       "       [12.72,  1.75,  2.28, 22.5 ],\n",
       "       [12.22,  1.29,  1.94, 19.  ],\n",
       "       [11.61,  1.35,  2.7 , 20.  ],\n",
       "       [11.46,  3.74,  1.82, 19.5 ],\n",
       "       [12.52,  2.43,  2.17, 21.  ],\n",
       "       [11.76,  2.68,  2.92, 20.  ],\n",
       "       [11.41,  0.74,  2.5 , 21.  ],\n",
       "       [12.08,  1.39,  2.5 , 22.5 ],\n",
       "       [11.03,  1.51,  2.2 , 21.5 ],\n",
       "       [11.82,  1.47,  1.99, 20.8 ],\n",
       "       [12.42,  1.61,  2.19, 22.5 ],\n",
       "       [12.77,  3.43,  1.98, 16.  ],\n",
       "       [12.  ,  3.43,  2.  , 19.  ],\n",
       "       [11.45,  2.4 ,  2.42, 20.  ],\n",
       "       [11.56,  2.05,  3.23, 28.5 ],\n",
       "       [12.42,  4.43,  2.73, 26.5 ],\n",
       "       [13.05,  5.8 ,  2.13, 21.5 ],\n",
       "       [11.87,  4.31,  2.39, 21.  ],\n",
       "       [12.07,  2.16,  2.17, 21.  ],\n",
       "       [12.43,  1.53,  2.29, 21.5 ],\n",
       "       [11.79,  2.13,  2.78, 28.5 ],\n",
       "       [12.37,  1.63,  2.3 , 24.5 ],\n",
       "       [12.04,  4.3 ,  2.38, 22.  ],\n",
       "       [12.86,  1.35,  2.32, 18.  ],\n",
       "       [12.88,  2.99,  2.4 , 20.  ],\n",
       "       [12.81,  2.31,  2.4 , 24.  ],\n",
       "       [12.7 ,  3.55,  2.36, 21.5 ],\n",
       "       [12.51,  1.24,  2.25, 17.5 ],\n",
       "       [12.6 ,  2.46,  2.2 , 18.5 ],\n",
       "       [12.25,  4.72,  2.54, 21.  ],\n",
       "       [12.53,  5.51,  2.64, 25.  ],\n",
       "       [13.49,  3.59,  2.19, 19.5 ],\n",
       "       [12.84,  2.96,  2.61, 24.  ],\n",
       "       [12.93,  2.81,  2.7 , 21.  ],\n",
       "       [13.36,  2.56,  2.35, 20.  ],\n",
       "       [13.52,  3.17,  2.72, 23.5 ],\n",
       "       [13.62,  4.95,  2.35, 20.  ],\n",
       "       [12.25,  3.88,  2.2 , 18.5 ],\n",
       "       [13.16,  3.57,  2.15, 21.  ],\n",
       "       [13.88,  5.04,  2.23, 20.  ],\n",
       "       [12.87,  4.61,  2.48, 21.5 ],\n",
       "       [13.32,  3.24,  2.38, 21.5 ],\n",
       "       [13.08,  3.9 ,  2.36, 21.5 ],\n",
       "       [13.5 ,  3.12,  2.62, 24.  ],\n",
       "       [12.79,  2.67,  2.48, 22.  ],\n",
       "       [13.11,  1.9 ,  2.75, 25.5 ],\n",
       "       [13.23,  3.3 ,  2.28, 18.5 ],\n",
       "       [12.58,  1.29,  2.1 , 20.  ],\n",
       "       [13.17,  5.19,  2.32, 22.  ],\n",
       "       [13.84,  4.12,  2.38, 19.5 ],\n",
       "       [12.45,  3.03,  2.64, 27.  ],\n",
       "       [14.34,  1.68,  2.7 , 25.  ],\n",
       "       [13.48,  1.67,  2.64, 22.5 ],\n",
       "       [12.36,  3.83,  2.38, 21.  ],\n",
       "       [13.69,  3.26,  2.54, 20.  ],\n",
       "       [12.85,  3.27,  2.58, 22.  ],\n",
       "       [12.96,  3.45,  2.35, 18.5 ],\n",
       "       [13.78,  2.76,  2.3 , 22.  ],\n",
       "       [13.73,  4.36,  2.26, 22.5 ],\n",
       "       [13.45,  3.7 ,  2.6 , 23.  ],\n",
       "       [12.82,  3.37,  2.3 , 19.5 ],\n",
       "       [13.58,  2.58,  2.69, 24.5 ],\n",
       "       [13.4 ,  4.6 ,  2.86, 25.  ],\n",
       "       [12.2 ,  3.03,  2.32, 19.  ],\n",
       "       [12.77,  2.39,  2.28, 19.5 ],\n",
       "       [14.16,  2.51,  2.48, 20.  ],\n",
       "       [13.71,  5.65,  2.45, 20.5 ],\n",
       "       [13.4 ,  3.91,  2.48, 23.  ],\n",
       "       [13.27,  4.28,  2.26, 20.  ],\n",
       "       [13.17,  2.59,  2.37, 20.  ],\n",
       "       [14.13,  4.1 ,  2.74, 24.5 ]])"
      ]
     },
     "execution_count": 3,
     "metadata": {},
     "output_type": "execute_result"
    }
   ],
   "source": [
    "\n",
    "wine_x = wine.data[:,:4]\n",
    "wine_x\n"
   ]
  },
  {
   "cell_type": "code",
   "execution_count": 4,
   "metadata": {},
   "outputs": [
    {
     "data": {
      "text/plain": [
       "(178,)"
      ]
     },
     "execution_count": 4,
     "metadata": {},
     "output_type": "execute_result"
    }
   ],
   "source": [
    "wine_y = wine.target\n",
    "wine_y.shape\n"
   ]
  },
  {
   "cell_type": "code",
   "execution_count": 5,
   "metadata": {},
   "outputs": [],
   "source": [
    "x_train, x_test, y_train, y_test = train_test_split(wine_x, wine_y, test_size=0.2)\n",
    "scaler = StandardScaler()\n",
    "x_train = scaler.fit_transform(x_train)\n",
    "x_test = scaler.transform(x_test)"
   ]
  },
  {
   "cell_type": "code",
   "execution_count": 6,
   "metadata": {},
   "outputs": [],
   "source": [
    "model = KNeighborsClassifier()"
   ]
  },
  {
   "cell_type": "code",
   "execution_count": 7,
   "metadata": {},
   "outputs": [
    {
     "data": {
      "text/html": [
       "<style>#sk-container-id-1 {color: black;background-color: white;}#sk-container-id-1 pre{padding: 0;}#sk-container-id-1 div.sk-toggleable {background-color: white;}#sk-container-id-1 label.sk-toggleable__label {cursor: pointer;display: block;width: 100%;margin-bottom: 0;padding: 0.3em;box-sizing: border-box;text-align: center;}#sk-container-id-1 label.sk-toggleable__label-arrow:before {content: \"▸\";float: left;margin-right: 0.25em;color: #696969;}#sk-container-id-1 label.sk-toggleable__label-arrow:hover:before {color: black;}#sk-container-id-1 div.sk-estimator:hover label.sk-toggleable__label-arrow:before {color: black;}#sk-container-id-1 div.sk-toggleable__content {max-height: 0;max-width: 0;overflow: hidden;text-align: left;background-color: #f0f8ff;}#sk-container-id-1 div.sk-toggleable__content pre {margin: 0.2em;color: black;border-radius: 0.25em;background-color: #f0f8ff;}#sk-container-id-1 input.sk-toggleable__control:checked~div.sk-toggleable__content {max-height: 200px;max-width: 100%;overflow: auto;}#sk-container-id-1 input.sk-toggleable__control:checked~label.sk-toggleable__label-arrow:before {content: \"▾\";}#sk-container-id-1 div.sk-estimator input.sk-toggleable__control:checked~label.sk-toggleable__label {background-color: #d4ebff;}#sk-container-id-1 div.sk-label input.sk-toggleable__control:checked~label.sk-toggleable__label {background-color: #d4ebff;}#sk-container-id-1 input.sk-hidden--visually {border: 0;clip: rect(1px 1px 1px 1px);clip: rect(1px, 1px, 1px, 1px);height: 1px;margin: -1px;overflow: hidden;padding: 0;position: absolute;width: 1px;}#sk-container-id-1 div.sk-estimator {font-family: monospace;background-color: #f0f8ff;border: 1px dotted black;border-radius: 0.25em;box-sizing: border-box;margin-bottom: 0.5em;}#sk-container-id-1 div.sk-estimator:hover {background-color: #d4ebff;}#sk-container-id-1 div.sk-parallel-item::after {content: \"\";width: 100%;border-bottom: 1px solid gray;flex-grow: 1;}#sk-container-id-1 div.sk-label:hover label.sk-toggleable__label {background-color: #d4ebff;}#sk-container-id-1 div.sk-serial::before {content: \"\";position: absolute;border-left: 1px solid gray;box-sizing: border-box;top: 0;bottom: 0;left: 50%;z-index: 0;}#sk-container-id-1 div.sk-serial {display: flex;flex-direction: column;align-items: center;background-color: white;padding-right: 0.2em;padding-left: 0.2em;position: relative;}#sk-container-id-1 div.sk-item {position: relative;z-index: 1;}#sk-container-id-1 div.sk-parallel {display: flex;align-items: stretch;justify-content: center;background-color: white;position: relative;}#sk-container-id-1 div.sk-item::before, #sk-container-id-1 div.sk-parallel-item::before {content: \"\";position: absolute;border-left: 1px solid gray;box-sizing: border-box;top: 0;bottom: 0;left: 50%;z-index: -1;}#sk-container-id-1 div.sk-parallel-item {display: flex;flex-direction: column;z-index: 1;position: relative;background-color: white;}#sk-container-id-1 div.sk-parallel-item:first-child::after {align-self: flex-end;width: 50%;}#sk-container-id-1 div.sk-parallel-item:last-child::after {align-self: flex-start;width: 50%;}#sk-container-id-1 div.sk-parallel-item:only-child::after {width: 0;}#sk-container-id-1 div.sk-dashed-wrapped {border: 1px dashed gray;margin: 0 0.4em 0.5em 0.4em;box-sizing: border-box;padding-bottom: 0.4em;background-color: white;}#sk-container-id-1 div.sk-label label {font-family: monospace;font-weight: bold;display: inline-block;line-height: 1.2em;}#sk-container-id-1 div.sk-label-container {text-align: center;}#sk-container-id-1 div.sk-container {/* jupyter's `normalize.less` sets `[hidden] { display: none; }` but bootstrap.min.css set `[hidden] { display: none !important; }` so we also need the `!important` here to be able to override the default hidden behavior on the sphinx rendered scikit-learn.org. See: https://github.com/scikit-learn/scikit-learn/issues/21755 */display: inline-block !important;position: relative;}#sk-container-id-1 div.sk-text-repr-fallback {display: none;}</style><div id=\"sk-container-id-1\" class=\"sk-top-container\"><div class=\"sk-text-repr-fallback\"><pre>KNeighborsClassifier()</pre><b>In a Jupyter environment, please rerun this cell to show the HTML representation or trust the notebook. <br />On GitHub, the HTML representation is unable to render, please try loading this page with nbviewer.org.</b></div><div class=\"sk-container\" hidden><div class=\"sk-item\"><div class=\"sk-estimator sk-toggleable\"><input class=\"sk-toggleable__control sk-hidden--visually\" id=\"sk-estimator-id-1\" type=\"checkbox\" checked><label for=\"sk-estimator-id-1\" class=\"sk-toggleable__label sk-toggleable__label-arrow\">KNeighborsClassifier</label><div class=\"sk-toggleable__content\"><pre>KNeighborsClassifier()</pre></div></div></div></div></div>"
      ],
      "text/plain": [
       "KNeighborsClassifier()"
      ]
     },
     "execution_count": 7,
     "metadata": {},
     "output_type": "execute_result"
    }
   ],
   "source": [
    "model.fit(x_train, y_train)"
   ]
  },
  {
   "cell_type": "code",
   "execution_count": 8,
   "metadata": {},
   "outputs": [
    {
     "data": {
      "text/plain": [
       "0.9166666666666666"
      ]
     },
     "execution_count": 8,
     "metadata": {},
     "output_type": "execute_result"
    }
   ],
   "source": [
    "y_pred = model.predict(x_test)\n",
    "f1_score(y_test, y_pred, average=\"micro\")"
   ]
  },
  {
   "cell_type": "code",
   "execution_count": null,
   "metadata": {},
   "outputs": [],
   "source": []
  }
 ],
 "metadata": {
  "kernelspec": {
   "display_name": "Python 3",
   "language": "python",
   "name": "python3"
  },
  "language_info": {
   "codemirror_mode": {
    "name": "ipython",
    "version": 3
   },
   "file_extension": ".py",
   "mimetype": "text/x-python",
   "name": "python",
   "nbconvert_exporter": "python",
   "pygments_lexer": "ipython3",
   "version": "3.10.6"
  },
  "orig_nbformat": 4
 },
 "nbformat": 4,
 "nbformat_minor": 2
}
