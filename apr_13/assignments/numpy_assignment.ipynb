{
 "cells": [
  {
   "cell_type": "code",
   "execution_count": 1,
   "id": "7e4fcd77-3c51-42fc-89d4-56e609197127",
   "metadata": {
    "tags": []
   },
   "outputs": [],
   "source": [
    "import numpy as np"
   ]
  },
  {
   "cell_type": "code",
   "execution_count": 2,
   "id": "2acba379-834f-4345-936a-336b7f4f4009",
   "metadata": {
    "tags": []
   },
   "outputs": [
    {
     "data": {
      "text/plain": [
       "array([[6, 9, 6, 1],\n",
       "       [4, 8, 2, 1],\n",
       "       [7, 7, 4, 9],\n",
       "       [8, 5, 3, 4],\n",
       "       [4, 9, 2, 6],\n",
       "       [5, 6, 9, 8]])"
      ]
     },
     "execution_count": 2,
     "metadata": {},
     "output_type": "execute_result"
    }
   ],
   "source": [
    "random_ints_matrix = np.random.randint(1, 10, [6, 4])\n",
    "random_ints_matrix"
   ]
  },
  {
   "cell_type": "code",
   "execution_count": 3,
   "id": "87595e70-b84d-4e7a-8723-0c20da5f54da",
   "metadata": {
    "tags": []
   },
   "outputs": [],
   "source": [
    "random_ints_matrix[4] = random_ints_matrix[0:1, :] + random_ints_matrix[2:3, :]\n",
    "random_ints_matrix[5] = random_ints_matrix[1:2, :] + random_ints_matrix[3:4 , : ]"
   ]
  },
  {
   "cell_type": "code",
   "execution_count": 4,
   "id": "70ad9c65-2446-432a-a657-f9fae97be294",
   "metadata": {
    "tags": []
   },
   "outputs": [
    {
     "data": {
      "text/plain": [
       "array([[ 6,  9,  6,  1],\n",
       "       [ 4,  8,  2,  1],\n",
       "       [ 7,  7,  4,  9],\n",
       "       [ 8,  5,  3,  4],\n",
       "       [13, 16, 10, 10],\n",
       "       [12, 13,  5,  5]])"
      ]
     },
     "execution_count": 4,
     "metadata": {},
     "output_type": "execute_result"
    }
   ],
   "source": [
    "random_ints_matrix"
   ]
  },
  {
   "cell_type": "code",
   "execution_count": null,
   "id": "909ce5f3-641e-4b88-a5a5-0e851706fa92",
   "metadata": {},
   "outputs": [],
   "source": []
  },
  {
   "cell_type": "markdown",
   "id": "2946db45-7ebd-4d07-978e-191b6a901f1f",
   "metadata": {},
   "source": [
    "```python\n",
    "import numpy as np\n",
    "random_ints_matrix = np.random.randint(1, 10, [6, 4])\n",
    "print(random_ints_matrix)\n",
    "\n",
    "print(random_ints_matrix[0] + random_ints_matrix[2])\n",
    "\n",
    "random_ints_matrix[4] = random_ints_matrix[0] + random_ints_matrix[2]\n",
    "random_ints_matrix[5] = random_ints_matrix[1] + random_ints_matrix[3]\n",
    "\n",
    "print(random_ints_matrix)\n",
    "```"
   ]
  }
 ],
 "metadata": {
  "kernelspec": {
   "display_name": "Python 3 (ipykernel)",
   "language": "python",
   "name": "python3"
  },
  "language_info": {
   "codemirror_mode": {
    "name": "ipython",
    "version": 3
   },
   "file_extension": ".py",
   "mimetype": "text/x-python",
   "name": "python",
   "nbconvert_exporter": "python",
   "pygments_lexer": "ipython3",
   "version": "3.10.6"
  }
 },
 "nbformat": 4,
 "nbformat_minor": 5
}
